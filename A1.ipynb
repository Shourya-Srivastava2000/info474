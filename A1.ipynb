{
 "cells": [
  {
   "cell_type": "code",
   "execution_count": 31,
   "id": "6fae6a4c",
   "metadata": {},
   "outputs": [],
   "source": [
    "import numpy as np\n",
    "import pandas as pd\n",
    "import seaborn as sns\n",
    "from matplotlib import pyplot as plt\n",
    "from matplotlib.colors import ListedColormap\n",
    "flatui = [\"#9b59b6\", \"#3498db\", \"#95a5a6\", \"#e74c3c\", \"#34495e\", \"#2ecc71\"]\n",
    "my_cmap = ListedColormap(sns.color_palette(flatui).as_hex())\n"
   ]
  },
  {
   "cell_type": "code",
   "execution_count": 2,
   "id": "31e8e0ac",
   "metadata": {},
   "outputs": [
    {
     "data": {
      "text/html": [
       "<div>\n",
       "<style scoped>\n",
       "    .dataframe tbody tr th:only-of-type {\n",
       "        vertical-align: middle;\n",
       "    }\n",
       "\n",
       "    .dataframe tbody tr th {\n",
       "        vertical-align: top;\n",
       "    }\n",
       "\n",
       "    .dataframe thead th {\n",
       "        text-align: right;\n",
       "    }\n",
       "</style>\n",
       "<table border=\"1\" class=\"dataframe\">\n",
       "  <thead>\n",
       "    <tr style=\"text-align: right;\">\n",
       "      <th></th>\n",
       "      <th>Sex</th>\n",
       "      <th>Year</th>\n",
       "      <th>Age</th>\n",
       "      <th>People</th>\n",
       "    </tr>\n",
       "  </thead>\n",
       "  <tbody>\n",
       "    <tr>\n",
       "      <th>0</th>\n",
       "      <td>1</td>\n",
       "      <td>1900</td>\n",
       "      <td>0</td>\n",
       "      <td>4619544</td>\n",
       "    </tr>\n",
       "    <tr>\n",
       "      <th>1</th>\n",
       "      <td>1</td>\n",
       "      <td>2000</td>\n",
       "      <td>0</td>\n",
       "      <td>9735380</td>\n",
       "    </tr>\n",
       "    <tr>\n",
       "      <th>2</th>\n",
       "      <td>1</td>\n",
       "      <td>1900</td>\n",
       "      <td>5</td>\n",
       "      <td>4465783</td>\n",
       "    </tr>\n",
       "    <tr>\n",
       "      <th>3</th>\n",
       "      <td>1</td>\n",
       "      <td>2000</td>\n",
       "      <td>5</td>\n",
       "      <td>10552146</td>\n",
       "    </tr>\n",
       "    <tr>\n",
       "      <th>4</th>\n",
       "      <td>1</td>\n",
       "      <td>1900</td>\n",
       "      <td>10</td>\n",
       "      <td>4057669</td>\n",
       "    </tr>\n",
       "  </tbody>\n",
       "</table>\n",
       "</div>"
      ],
      "text/plain": [
       "   Sex  Year  Age    People\n",
       "0    1  1900    0   4619544\n",
       "1    1  2000    0   9735380\n",
       "2    1  1900    5   4465783\n",
       "3    1  2000    5  10552146\n",
       "4    1  1900   10   4057669"
      ]
     },
     "execution_count": 2,
     "metadata": {},
     "output_type": "execute_result"
    }
   ],
   "source": [
    "data = pd.read_csv(\"census2000.csv\")\n",
    "data.head(5)"
   ]
  },
  {
   "cell_type": "markdown",
   "id": "7b7f6d20",
   "metadata": {},
   "source": [
    "# How does the distribution of population across age categories differ from 1900 to 2000?"
   ]
  },
  {
   "cell_type": "code",
   "execution_count": 3,
   "id": "60249d43",
   "metadata": {},
   "outputs": [],
   "source": [
    "data_1900 = data[data[\"Year\"] == 1900]\n",
    "agender_1900 = data_1900.groupby(\"Age\").sum()\n",
    "agender_1900 = agender_1900.reset_index()"
   ]
  },
  {
   "cell_type": "code",
   "execution_count": 4,
   "id": "3a49ad21",
   "metadata": {},
   "outputs": [],
   "source": [
    "data_2000 = data[data[\"Year\"] == 2000]\n",
    "agender_2000 = data_2000.groupby(\"Age\").sum()\n",
    "agender_2000 = agender_2000.reset_index()"
   ]
  },
  {
   "cell_type": "code",
   "execution_count": 5,
   "id": "cd33cd4c",
   "metadata": {},
   "outputs": [],
   "source": [
    "ages = agender_1900[\"Age\"].values\n",
    "holder_1900 = {}\n",
    "holder_2000 = {}\n",
    "for age in ages:\n",
    "    holder_1900[age] = agender_1900[agender_1900[\"Age\"] == age][\"People\"].values[0]\n",
    "    holder_2000[age] = agender_2000[agender_1900[\"Age\"] == age][\"People\"].values[0]"
   ]
  },
  {
   "cell_type": "code",
   "execution_count": 46,
   "id": "25591c97",
   "metadata": {},
   "outputs": [
    {
     "data": {
      "text/plain": [
       "{0: 19046094,\n",
       " 5: 20621710,\n",
       " 10: 20585757,\n",
       " 15: 19930088,\n",
       " 20: 19055559,\n",
       " 25: 19178000,\n",
       " 30: 20325175,\n",
       " 35: 23110829,\n",
       " 40: 22808830,\n",
       " 45: 20186259,\n",
       " 50: 17419067,\n",
       " 55: 13380350,\n",
       " 60: 10792360,\n",
       " 65: 9258407,\n",
       " 70: 8977000,\n",
       " 75: 7268299,\n",
       " 80: 5124536,\n",
       " 85: 2951513,\n",
       " 90: 1400884}"
      ]
     },
     "execution_count": 46,
     "metadata": {},
     "output_type": "execute_result"
    }
   ],
   "source": [
    "holder_2000"
   ]
  },
  {
   "cell_type": "code",
   "execution_count": 7,
   "id": "fedb6b9c",
   "metadata": {},
   "outputs": [
    {
     "data": {
      "text/plain": [
       "{0: 9208740,\n",
       " 5: 8856266,\n",
       " 10: 8059418,\n",
       " 15: 7576589,\n",
       " 20: 7445099,\n",
       " 25: 6625336,\n",
       " 30: 5584138,\n",
       " 35: 4981620,\n",
       " 40: 4266057,\n",
       " 45: 3516438,\n",
       " 50: 2983019,\n",
       " 55: 2226540,\n",
       " 60: 1804079,\n",
       " 65: 1312875,\n",
       " 70: 894754,\n",
       " 75: 534090,\n",
       " 80: 259884,\n",
       " 85: 92622,\n",
       " 90: 35257}"
      ]
     },
     "execution_count": 7,
     "metadata": {},
     "output_type": "execute_result"
    }
   ],
   "source": [
    "holder_1900"
   ]
  },
  {
   "cell_type": "code",
   "execution_count": 45,
   "id": "15e84ef6",
   "metadata": {},
   "outputs": [
    {
     "data": {
      "image/png": "[encoded data removed]",
      "text/plain": [
       "<Figure size 640x480 with 1 Axes>"
      ]
     },
     "metadata": {
      "needs_background": "light"
     },
     "output_type": "display_data"
    }
   ],
   "source": [
    "from matplotlib.pyplot import figure\n",
    "figure(figsize=(8, 6), dpi=80)\n",
    "hN = plt.hist(holder_1900.keys(), weights=holder_1900.values(), rwidth=.95, label=\"1900\", orientation = \"horizontal\", color = \"blue\")\n",
    "hS = plt.hist(holder_2000.keys(), weights=holder_2000.values(), rwidth=.95, label=\"2000\", orientation = \"horizontal\", color = \"orange\")\n",
    "for p in hS[2]:\n",
    "    p.set_width( - p.get_width())\n",
    "\n",
    "xmin = min([ min(w.get_width() for w in hS[2]), \n",
    "                min([w.get_width() for w in hN[2]]) ])\n",
    "xmin = np.floor(xmin)\n",
    "xmax = max([ max(w.get_width() for w in hS[2]), \n",
    "                max([w.get_width() for w in hN[2]]) ])\n",
    "xmax = np.ceil(xmax)\n",
    "range = xmax - xmin\n",
    "delta = 0.0 * range\n",
    "plt.xlim([xmin - delta, xmax + delta])\n",
    "xt = plt.xticks()\n",
    "n = xt[0]\n",
    "s = ['%.1f'%abs(i) for i in n]\n",
    "plt.xticks(n, s, rotation = 45)\n",
    "plt.legend(loc='best')\n",
    "plt.axvline(0.0, color = \"black\")\n",
    "plt.xlabel(\"# of people\", fontsize = 16)\n",
    "plt.ylabel(\"Age groups\", fontsize = 16)\n",
    "plt.title(\"Population's age distribution: 1900 vs 2000\")\n",
    "plt.show()"
   ]
  },
  {
   "cell_type": "markdown",
   "id": "1073b471",
   "metadata": {},
   "source": [
    "- As a statsitics major, I have been taught that the first thing we should do when given a dataset is to plot its distibution so as to get a high-level understaning of the data at hand. \n",
    "- In our dataset, we had census information from two years, 1900 and 2000. It would not make sense to visualize the distribution of pupoluation across both years, therefore my first step was too split the dataset on the basis of age.\n",
    "- Next, I decided to look at the dsitribution of population irrespective of gender, therefore I grouped by ages to get the appropriate counts. \n",
    "- The way our data was structured, we already have the bins as well as the counts for these bins. Therefore, I could not use the hist function directly as that deals with data that has not already been counted. Therefore, I transformed my dataframe into a dictionary (I did not any other way of doing this) and then use the weight paramter or matplotlib to get the desired histograms.\n",
    "- I initially plotted overlaaping histograms, however it did not look too nice therefore I decided to switch to back-to-back histograms to display the difference between the distributions. This allowed for me to display the distributions from 1900 and 2000 in a manner that allows users to only understand how are the populations distributed, but also compare them!\n",
    "- I added the title, xlabel and ylabels, I decided to increase their font size. I added a legend but did not increase its font size as it was already visible enough and I did not want to take focus away from the visual itself. \n",
    "- I also played around with some color palettes from seaborn, however choosing different colors or even an sequential color palette for different age groups did not make sense to me as the change in color is not conveying any extra information to the viewer. I would consider changing the colors of each category by using a color map if the change in color itself was going to convey some extra information, however in this case we dont have any extra information to convey therefore I just went for solid colors. The orange-blue looked better than red-green, green-blue. \n",
    "- I added an axis line to split the histgorams, this is black in color to ensure that the demarkationbetween bars is clear. \n",
    "- Apart from the data transformations already described above, i had to figure out the xlims, ylims, where was i going to place each bar on the y axis, the width of each bin and the gap between each bin. I was able to do so as I have created similar visuals in an internship. \n"
   ]
  },
  {
   "cell_type": "code",
   "execution_count": null,
   "id": "db604ce8",
   "metadata": {},
   "outputs": [],
   "source": []
  }
 ],
 "metadata": {
  "kernelspec": {
   "display_name": "Python 3 (ipykernel)",
   "language": "python",
   "name": "python3"
  },
  "language_info": {
   "codemirror_mode": {
    "name": "ipython",
    "version": 3
   },
   "file_extension": ".py",
   "mimetype": "text/x-python",
   "name": "python",
   "nbconvert_exporter": "python",
   "pygments_lexer": "ipython3",
   "version": "3.9.7"
  }
 },
 "nbformat": 4,
 "nbformat_minor": 5
}
